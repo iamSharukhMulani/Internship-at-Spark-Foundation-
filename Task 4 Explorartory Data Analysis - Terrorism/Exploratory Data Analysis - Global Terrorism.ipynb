{
 "cells": [
  {
   "cell_type": "markdown",
   "id": "5b22deef",
   "metadata": {},
   "source": [
    "# Author : Sharukh Mulani"
   ]
  },
  {
   "cell_type": "markdown",
   "id": "07fedb4e",
   "metadata": {},
   "source": [
    "## Problem Statement"
   ]
  },
  {
   "cell_type": "markdown",
   "id": "795ca07c",
   "metadata": {},
   "source": [
    "Exploratory Data Analysis on dataset ‘Global Terrorism’.\n",
    "\n",
    "As a security/defense analyst, try to find out the hot zone of terrorism.\n",
    "\n",
    "Derive all security issues and insights. "
   ]
  },
  {
   "cell_type": "markdown",
   "id": "266ae2bd",
   "metadata": {},
   "source": [
    "## Data Collection"
   ]
  },
  {
   "cell_type": "code",
   "execution_count": 1,
   "id": "8637c5ae",
   "metadata": {},
   "outputs": [],
   "source": [
    "import pandas as pd\n",
    "import numpy as np\n",
    "import seaborn as sns\n",
    "import matplotlib.pyplot as plt\n",
    "%matplotlib inline\n",
    "\n",
    "import warnings\n",
    "warnings.filterwarnings(\"ignore\")"
   ]
  },
  {
   "cell_type": "code",
   "execution_count": 2,
   "id": "08d80562",
   "metadata": {},
   "outputs": [
    {
     "data": {
      "text/html": [
       "<div>\n",
       "<style scoped>\n",
       "    .dataframe tbody tr th:only-of-type {\n",
       "        vertical-align: middle;\n",
       "    }\n",
       "\n",
       "    .dataframe tbody tr th {\n",
       "        vertical-align: top;\n",
       "    }\n",
       "\n",
       "    .dataframe thead th {\n",
       "        text-align: right;\n",
       "    }\n",
       "</style>\n",
       "<table border=\"1\" class=\"dataframe\">\n",
       "  <thead>\n",
       "    <tr style=\"text-align: right;\">\n",
       "      <th></th>\n",
       "      <th>eventid</th>\n",
       "      <th>iyear</th>\n",
       "      <th>imonth</th>\n",
       "      <th>iday</th>\n",
       "      <th>approxdate</th>\n",
       "      <th>extended</th>\n",
       "      <th>resolution</th>\n",
       "      <th>country</th>\n",
       "      <th>country_txt</th>\n",
       "      <th>region</th>\n",
       "      <th>...</th>\n",
       "      <th>addnotes</th>\n",
       "      <th>scite1</th>\n",
       "      <th>scite2</th>\n",
       "      <th>scite3</th>\n",
       "      <th>dbsource</th>\n",
       "      <th>INT_LOG</th>\n",
       "      <th>INT_IDEO</th>\n",
       "      <th>INT_MISC</th>\n",
       "      <th>INT_ANY</th>\n",
       "      <th>related</th>\n",
       "    </tr>\n",
       "  </thead>\n",
       "  <tbody>\n",
       "    <tr>\n",
       "      <th>0</th>\n",
       "      <td>197000000001</td>\n",
       "      <td>1970</td>\n",
       "      <td>7</td>\n",
       "      <td>2</td>\n",
       "      <td>NaN</td>\n",
       "      <td>0</td>\n",
       "      <td>NaN</td>\n",
       "      <td>58</td>\n",
       "      <td>Dominican Republic</td>\n",
       "      <td>2</td>\n",
       "      <td>...</td>\n",
       "      <td>NaN</td>\n",
       "      <td>NaN</td>\n",
       "      <td>NaN</td>\n",
       "      <td>NaN</td>\n",
       "      <td>PGIS</td>\n",
       "      <td>0</td>\n",
       "      <td>0</td>\n",
       "      <td>0</td>\n",
       "      <td>0</td>\n",
       "      <td>NaN</td>\n",
       "    </tr>\n",
       "    <tr>\n",
       "      <th>1</th>\n",
       "      <td>197000000002</td>\n",
       "      <td>1970</td>\n",
       "      <td>0</td>\n",
       "      <td>0</td>\n",
       "      <td>NaN</td>\n",
       "      <td>0</td>\n",
       "      <td>NaN</td>\n",
       "      <td>130</td>\n",
       "      <td>Mexico</td>\n",
       "      <td>1</td>\n",
       "      <td>...</td>\n",
       "      <td>NaN</td>\n",
       "      <td>NaN</td>\n",
       "      <td>NaN</td>\n",
       "      <td>NaN</td>\n",
       "      <td>PGIS</td>\n",
       "      <td>0</td>\n",
       "      <td>1</td>\n",
       "      <td>1</td>\n",
       "      <td>1</td>\n",
       "      <td>NaN</td>\n",
       "    </tr>\n",
       "    <tr>\n",
       "      <th>2</th>\n",
       "      <td>197001000001</td>\n",
       "      <td>1970</td>\n",
       "      <td>1</td>\n",
       "      <td>0</td>\n",
       "      <td>NaN</td>\n",
       "      <td>0</td>\n",
       "      <td>NaN</td>\n",
       "      <td>160</td>\n",
       "      <td>Philippines</td>\n",
       "      <td>5</td>\n",
       "      <td>...</td>\n",
       "      <td>NaN</td>\n",
       "      <td>NaN</td>\n",
       "      <td>NaN</td>\n",
       "      <td>NaN</td>\n",
       "      <td>PGIS</td>\n",
       "      <td>-9</td>\n",
       "      <td>-9</td>\n",
       "      <td>1</td>\n",
       "      <td>1</td>\n",
       "      <td>NaN</td>\n",
       "    </tr>\n",
       "    <tr>\n",
       "      <th>3</th>\n",
       "      <td>197001000002</td>\n",
       "      <td>1970</td>\n",
       "      <td>1</td>\n",
       "      <td>0</td>\n",
       "      <td>NaN</td>\n",
       "      <td>0</td>\n",
       "      <td>NaN</td>\n",
       "      <td>78</td>\n",
       "      <td>Greece</td>\n",
       "      <td>8</td>\n",
       "      <td>...</td>\n",
       "      <td>NaN</td>\n",
       "      <td>NaN</td>\n",
       "      <td>NaN</td>\n",
       "      <td>NaN</td>\n",
       "      <td>PGIS</td>\n",
       "      <td>-9</td>\n",
       "      <td>-9</td>\n",
       "      <td>1</td>\n",
       "      <td>1</td>\n",
       "      <td>NaN</td>\n",
       "    </tr>\n",
       "    <tr>\n",
       "      <th>4</th>\n",
       "      <td>197001000003</td>\n",
       "      <td>1970</td>\n",
       "      <td>1</td>\n",
       "      <td>0</td>\n",
       "      <td>NaN</td>\n",
       "      <td>0</td>\n",
       "      <td>NaN</td>\n",
       "      <td>101</td>\n",
       "      <td>Japan</td>\n",
       "      <td>4</td>\n",
       "      <td>...</td>\n",
       "      <td>NaN</td>\n",
       "      <td>NaN</td>\n",
       "      <td>NaN</td>\n",
       "      <td>NaN</td>\n",
       "      <td>PGIS</td>\n",
       "      <td>-9</td>\n",
       "      <td>-9</td>\n",
       "      <td>1</td>\n",
       "      <td>1</td>\n",
       "      <td>NaN</td>\n",
       "    </tr>\n",
       "    <tr>\n",
       "      <th>...</th>\n",
       "      <td>...</td>\n",
       "      <td>...</td>\n",
       "      <td>...</td>\n",
       "      <td>...</td>\n",
       "      <td>...</td>\n",
       "      <td>...</td>\n",
       "      <td>...</td>\n",
       "      <td>...</td>\n",
       "      <td>...</td>\n",
       "      <td>...</td>\n",
       "      <td>...</td>\n",
       "      <td>...</td>\n",
       "      <td>...</td>\n",
       "      <td>...</td>\n",
       "      <td>...</td>\n",
       "      <td>...</td>\n",
       "      <td>...</td>\n",
       "      <td>...</td>\n",
       "      <td>...</td>\n",
       "      <td>...</td>\n",
       "      <td>...</td>\n",
       "    </tr>\n",
       "    <tr>\n",
       "      <th>181686</th>\n",
       "      <td>201712310022</td>\n",
       "      <td>2017</td>\n",
       "      <td>12</td>\n",
       "      <td>31</td>\n",
       "      <td>NaN</td>\n",
       "      <td>0</td>\n",
       "      <td>NaN</td>\n",
       "      <td>182</td>\n",
       "      <td>Somalia</td>\n",
       "      <td>11</td>\n",
       "      <td>...</td>\n",
       "      <td>NaN</td>\n",
       "      <td>\"Somalia: Al-Shabaab Militants Attack Army Che...</td>\n",
       "      <td>\"Highlights: Somalia Daily Media Highlights 2 ...</td>\n",
       "      <td>\"Highlights: Somalia Daily Media Highlights 1 ...</td>\n",
       "      <td>START Primary Collection</td>\n",
       "      <td>0</td>\n",
       "      <td>0</td>\n",
       "      <td>0</td>\n",
       "      <td>0</td>\n",
       "      <td>NaN</td>\n",
       "    </tr>\n",
       "    <tr>\n",
       "      <th>181687</th>\n",
       "      <td>201712310029</td>\n",
       "      <td>2017</td>\n",
       "      <td>12</td>\n",
       "      <td>31</td>\n",
       "      <td>NaN</td>\n",
       "      <td>0</td>\n",
       "      <td>NaN</td>\n",
       "      <td>200</td>\n",
       "      <td>Syria</td>\n",
       "      <td>10</td>\n",
       "      <td>...</td>\n",
       "      <td>NaN</td>\n",
       "      <td>\"Putin's 'victory' in Syria has turned into a ...</td>\n",
       "      <td>\"Two Russian soldiers killed at Hmeymim base i...</td>\n",
       "      <td>\"Two Russian servicemen killed in Syria mortar...</td>\n",
       "      <td>START Primary Collection</td>\n",
       "      <td>-9</td>\n",
       "      <td>-9</td>\n",
       "      <td>1</td>\n",
       "      <td>1</td>\n",
       "      <td>NaN</td>\n",
       "    </tr>\n",
       "    <tr>\n",
       "      <th>181688</th>\n",
       "      <td>201712310030</td>\n",
       "      <td>2017</td>\n",
       "      <td>12</td>\n",
       "      <td>31</td>\n",
       "      <td>NaN</td>\n",
       "      <td>0</td>\n",
       "      <td>NaN</td>\n",
       "      <td>160</td>\n",
       "      <td>Philippines</td>\n",
       "      <td>5</td>\n",
       "      <td>...</td>\n",
       "      <td>NaN</td>\n",
       "      <td>\"Maguindanao clashes trap tribe members,\" Phil...</td>\n",
       "      <td>NaN</td>\n",
       "      <td>NaN</td>\n",
       "      <td>START Primary Collection</td>\n",
       "      <td>0</td>\n",
       "      <td>0</td>\n",
       "      <td>0</td>\n",
       "      <td>0</td>\n",
       "      <td>NaN</td>\n",
       "    </tr>\n",
       "    <tr>\n",
       "      <th>181689</th>\n",
       "      <td>201712310031</td>\n",
       "      <td>2017</td>\n",
       "      <td>12</td>\n",
       "      <td>31</td>\n",
       "      <td>NaN</td>\n",
       "      <td>0</td>\n",
       "      <td>NaN</td>\n",
       "      <td>92</td>\n",
       "      <td>India</td>\n",
       "      <td>6</td>\n",
       "      <td>...</td>\n",
       "      <td>NaN</td>\n",
       "      <td>\"Trader escapes grenade attack in Imphal,\" Bus...</td>\n",
       "      <td>NaN</td>\n",
       "      <td>NaN</td>\n",
       "      <td>START Primary Collection</td>\n",
       "      <td>-9</td>\n",
       "      <td>-9</td>\n",
       "      <td>0</td>\n",
       "      <td>-9</td>\n",
       "      <td>NaN</td>\n",
       "    </tr>\n",
       "    <tr>\n",
       "      <th>181690</th>\n",
       "      <td>201712310032</td>\n",
       "      <td>2017</td>\n",
       "      <td>12</td>\n",
       "      <td>31</td>\n",
       "      <td>NaN</td>\n",
       "      <td>0</td>\n",
       "      <td>NaN</td>\n",
       "      <td>160</td>\n",
       "      <td>Philippines</td>\n",
       "      <td>5</td>\n",
       "      <td>...</td>\n",
       "      <td>NaN</td>\n",
       "      <td>\"Security tightened in Cotabato following IED ...</td>\n",
       "      <td>\"Security tightened in Cotabato City,\" Manila ...</td>\n",
       "      <td>NaN</td>\n",
       "      <td>START Primary Collection</td>\n",
       "      <td>-9</td>\n",
       "      <td>-9</td>\n",
       "      <td>0</td>\n",
       "      <td>-9</td>\n",
       "      <td>NaN</td>\n",
       "    </tr>\n",
       "  </tbody>\n",
       "</table>\n",
       "<p>181691 rows × 135 columns</p>\n",
       "</div>"
      ],
      "text/plain": [
       "             eventid  iyear  imonth  iday approxdate  extended resolution  \\\n",
       "0       197000000001   1970       7     2        NaN         0        NaN   \n",
       "1       197000000002   1970       0     0        NaN         0        NaN   \n",
       "2       197001000001   1970       1     0        NaN         0        NaN   \n",
       "3       197001000002   1970       1     0        NaN         0        NaN   \n",
       "4       197001000003   1970       1     0        NaN         0        NaN   \n",
       "...              ...    ...     ...   ...        ...       ...        ...   \n",
       "181686  201712310022   2017      12    31        NaN         0        NaN   \n",
       "181687  201712310029   2017      12    31        NaN         0        NaN   \n",
       "181688  201712310030   2017      12    31        NaN         0        NaN   \n",
       "181689  201712310031   2017      12    31        NaN         0        NaN   \n",
       "181690  201712310032   2017      12    31        NaN         0        NaN   \n",
       "\n",
       "        country         country_txt  region  ... addnotes  \\\n",
       "0            58  Dominican Republic       2  ...      NaN   \n",
       "1           130              Mexico       1  ...      NaN   \n",
       "2           160         Philippines       5  ...      NaN   \n",
       "3            78              Greece       8  ...      NaN   \n",
       "4           101               Japan       4  ...      NaN   \n",
       "...         ...                 ...     ...  ...      ...   \n",
       "181686      182             Somalia      11  ...      NaN   \n",
       "181687      200               Syria      10  ...      NaN   \n",
       "181688      160         Philippines       5  ...      NaN   \n",
       "181689       92               India       6  ...      NaN   \n",
       "181690      160         Philippines       5  ...      NaN   \n",
       "\n",
       "                                                   scite1  \\\n",
       "0                                                     NaN   \n",
       "1                                                     NaN   \n",
       "2                                                     NaN   \n",
       "3                                                     NaN   \n",
       "4                                                     NaN   \n",
       "...                                                   ...   \n",
       "181686  \"Somalia: Al-Shabaab Militants Attack Army Che...   \n",
       "181687  \"Putin's 'victory' in Syria has turned into a ...   \n",
       "181688  \"Maguindanao clashes trap tribe members,\" Phil...   \n",
       "181689  \"Trader escapes grenade attack in Imphal,\" Bus...   \n",
       "181690  \"Security tightened in Cotabato following IED ...   \n",
       "\n",
       "                                                   scite2  \\\n",
       "0                                                     NaN   \n",
       "1                                                     NaN   \n",
       "2                                                     NaN   \n",
       "3                                                     NaN   \n",
       "4                                                     NaN   \n",
       "...                                                   ...   \n",
       "181686  \"Highlights: Somalia Daily Media Highlights 2 ...   \n",
       "181687  \"Two Russian soldiers killed at Hmeymim base i...   \n",
       "181688                                                NaN   \n",
       "181689                                                NaN   \n",
       "181690  \"Security tightened in Cotabato City,\" Manila ...   \n",
       "\n",
       "                                                   scite3  \\\n",
       "0                                                     NaN   \n",
       "1                                                     NaN   \n",
       "2                                                     NaN   \n",
       "3                                                     NaN   \n",
       "4                                                     NaN   \n",
       "...                                                   ...   \n",
       "181686  \"Highlights: Somalia Daily Media Highlights 1 ...   \n",
       "181687  \"Two Russian servicemen killed in Syria mortar...   \n",
       "181688                                                NaN   \n",
       "181689                                                NaN   \n",
       "181690                                                NaN   \n",
       "\n",
       "                        dbsource  INT_LOG  INT_IDEO INT_MISC INT_ANY  related  \n",
       "0                           PGIS        0         0        0       0      NaN  \n",
       "1                           PGIS        0         1        1       1      NaN  \n",
       "2                           PGIS       -9        -9        1       1      NaN  \n",
       "3                           PGIS       -9        -9        1       1      NaN  \n",
       "4                           PGIS       -9        -9        1       1      NaN  \n",
       "...                          ...      ...       ...      ...     ...      ...  \n",
       "181686  START Primary Collection        0         0        0       0      NaN  \n",
       "181687  START Primary Collection       -9        -9        1       1      NaN  \n",
       "181688  START Primary Collection        0         0        0       0      NaN  \n",
       "181689  START Primary Collection       -9        -9        0      -9      NaN  \n",
       "181690  START Primary Collection       -9        -9        0      -9      NaN  \n",
       "\n",
       "[181691 rows x 135 columns]"
      ]
     },
     "execution_count": 2,
     "metadata": {},
     "output_type": "execute_result"
    }
   ],
   "source": [
    "df = pd.read_csv('globalterrorismdb.csv', encoding= 'ISO-8859-1')\n",
    "df"
   ]
  },
  {
   "cell_type": "code",
   "execution_count": 3,
   "id": "d56b350e",
   "metadata": {},
   "outputs": [
    {
     "data": {
      "text/plain": [
       "(181691, 135)"
      ]
     },
     "execution_count": 3,
     "metadata": {},
     "output_type": "execute_result"
    }
   ],
   "source": [
    "df.shape"
   ]
  },
  {
   "cell_type": "code",
   "execution_count": 4,
   "id": "17009b23",
   "metadata": {},
   "outputs": [
    {
     "name": "stdout",
     "output_type": "stream",
     "text": [
      "<class 'pandas.core.frame.DataFrame'>\n",
      "RangeIndex: 181691 entries, 0 to 181690\n",
      "Columns: 135 entries, eventid to related\n",
      "dtypes: float64(55), int64(22), object(58)\n",
      "memory usage: 187.1+ MB\n"
     ]
    }
   ],
   "source": [
    "df.info()"
   ]
  },
  {
   "cell_type": "code",
   "execution_count": 5,
   "id": "4d2414a8",
   "metadata": {},
   "outputs": [
    {
     "data": {
      "text/plain": [
       "Index(['eventid', 'iyear', 'imonth', 'iday', 'approxdate', 'extended',\n",
       "       'resolution', 'country', 'country_txt', 'region',\n",
       "       ...\n",
       "       'addnotes', 'scite1', 'scite2', 'scite3', 'dbsource', 'INT_LOG',\n",
       "       'INT_IDEO', 'INT_MISC', 'INT_ANY', 'related'],\n",
       "      dtype='object', length=135)"
      ]
     },
     "execution_count": 5,
     "metadata": {},
     "output_type": "execute_result"
    }
   ],
   "source": [
    "df.columns"
   ]
  },
  {
   "cell_type": "code",
   "execution_count": 6,
   "id": "711d131b",
   "metadata": {},
   "outputs": [],
   "source": [
    "col_names = []\n",
    "for i in df.columns:\n",
    "    col_names.append(i)"
   ]
  },
  {
   "cell_type": "markdown",
   "id": "b2415f7c",
   "metadata": {},
   "source": [
    "## Data Processing"
   ]
  },
  {
   "cell_type": "code",
   "execution_count": 7,
   "id": "b1f7a23a",
   "metadata": {},
   "outputs": [
    {
     "data": {
      "text/plain": [
       "['eventid',\n",
       " 'iyear',\n",
       " 'imonth',\n",
       " 'iday',\n",
       " 'approxdate',\n",
       " 'extended',\n",
       " 'resolution',\n",
       " 'country',\n",
       " 'country_txt',\n",
       " 'region',\n",
       " 'region_txt',\n",
       " 'provstate',\n",
       " 'city',\n",
       " 'latitude',\n",
       " 'longitude',\n",
       " 'specificity',\n",
       " 'vicinity',\n",
       " 'location',\n",
       " 'summary',\n",
       " 'crit1',\n",
       " 'crit2',\n",
       " 'crit3',\n",
       " 'doubtterr',\n",
       " 'alternative',\n",
       " 'alternative_txt',\n",
       " 'multiple',\n",
       " 'success',\n",
       " 'suicide',\n",
       " 'attacktype1',\n",
       " 'attacktype1_txt',\n",
       " 'attacktype2',\n",
       " 'attacktype2_txt',\n",
       " 'attacktype3',\n",
       " 'attacktype3_txt',\n",
       " 'targtype1',\n",
       " 'targtype1_txt',\n",
       " 'targsubtype1',\n",
       " 'targsubtype1_txt',\n",
       " 'corp1',\n",
       " 'target1',\n",
       " 'natlty1',\n",
       " 'natlty1_txt',\n",
       " 'targtype2',\n",
       " 'targtype2_txt',\n",
       " 'targsubtype2',\n",
       " 'targsubtype2_txt',\n",
       " 'corp2',\n",
       " 'target2',\n",
       " 'natlty2',\n",
       " 'natlty2_txt',\n",
       " 'targtype3',\n",
       " 'targtype3_txt',\n",
       " 'targsubtype3',\n",
       " 'targsubtype3_txt',\n",
       " 'corp3',\n",
       " 'target3',\n",
       " 'natlty3',\n",
       " 'natlty3_txt',\n",
       " 'gname',\n",
       " 'gsubname',\n",
       " 'gname2',\n",
       " 'gsubname2',\n",
       " 'gname3',\n",
       " 'gsubname3',\n",
       " 'motive',\n",
       " 'guncertain1',\n",
       " 'guncertain2',\n",
       " 'guncertain3',\n",
       " 'individual',\n",
       " 'nperps',\n",
       " 'nperpcap',\n",
       " 'claimed',\n",
       " 'claimmode',\n",
       " 'claimmode_txt',\n",
       " 'claim2',\n",
       " 'claimmode2',\n",
       " 'claimmode2_txt',\n",
       " 'claim3',\n",
       " 'claimmode3',\n",
       " 'claimmode3_txt',\n",
       " 'compclaim',\n",
       " 'weaptype1',\n",
       " 'weaptype1_txt',\n",
       " 'weapsubtype1',\n",
       " 'weapsubtype1_txt',\n",
       " 'weaptype2',\n",
       " 'weaptype2_txt',\n",
       " 'weapsubtype2',\n",
       " 'weapsubtype2_txt',\n",
       " 'weaptype3',\n",
       " 'weaptype3_txt',\n",
       " 'weapsubtype3',\n",
       " 'weapsubtype3_txt',\n",
       " 'weaptype4',\n",
       " 'weaptype4_txt',\n",
       " 'weapsubtype4',\n",
       " 'weapsubtype4_txt',\n",
       " 'weapdetail',\n",
       " 'nkill',\n",
       " 'nkillus',\n",
       " 'nkillter',\n",
       " 'nwound',\n",
       " 'nwoundus',\n",
       " 'nwoundte',\n",
       " 'property',\n",
       " 'propextent',\n",
       " 'propextent_txt',\n",
       " 'propvalue',\n",
       " 'propcomment',\n",
       " 'ishostkid',\n",
       " 'nhostkid',\n",
       " 'nhostkidus',\n",
       " 'nhours',\n",
       " 'ndays',\n",
       " 'divert',\n",
       " 'kidhijcountry',\n",
       " 'ransom',\n",
       " 'ransomamt',\n",
       " 'ransomamtus',\n",
       " 'ransompaid',\n",
       " 'ransompaidus',\n",
       " 'ransomnote',\n",
       " 'hostkidoutcome',\n",
       " 'hostkidoutcome_txt',\n",
       " 'nreleased',\n",
       " 'addnotes',\n",
       " 'scite1',\n",
       " 'scite2',\n",
       " 'scite3',\n",
       " 'dbsource',\n",
       " 'INT_LOG',\n",
       " 'INT_IDEO',\n",
       " 'INT_MISC',\n",
       " 'INT_ANY',\n",
       " 'related']"
      ]
     },
     "execution_count": 7,
     "metadata": {},
     "output_type": "execute_result"
    }
   ],
   "source": [
    "col_names"
   ]
  },
  {
   "cell_type": "code",
   "execution_count": 8,
   "id": "27c27a84",
   "metadata": {},
   "outputs": [],
   "source": [
    "# Rename some columns which we are going to use for analysis.\n",
    "\n",
    "df = df.rename(columns = {'iyear':'Year','imonth':'Month', 'iday':'Day','country_txt':'Country','region_txt':'Region',\n",
    "                          'provstate':'State','city':'City','attacktype1_txt':'Attack_Type','targtype1_txt':'Target_Type',\n",
    "                          'natlty1_txt':'Nationality_of_Vic','nkill' : 'nKilled','nwound' : 'nWounded',\n",
    "                          'ishostkid' : 'Victim_Kidnapped','targsubtype1_txt':'Target_Subtype','gname':'Gang_Name',\n",
    "                          'weaptype1_txt':'Weapon_type'})"
   ]
  },
  {
   "cell_type": "code",
   "execution_count": 9,
   "id": "8efb6646",
   "metadata": {},
   "outputs": [],
   "source": [
    "#Add column ncasualties (Number of Dead/Injured people) by adding Nkill and Nwound\n",
    "df['nCasualties'] = df['nKilled'] + df['nWounded']"
   ]
  },
  {
   "cell_type": "code",
   "execution_count": 10,
   "id": "b0118a93",
   "metadata": {},
   "outputs": [
    {
     "data": {
      "text/html": [
       "<div>\n",
       "<style scoped>\n",
       "    .dataframe tbody tr th:only-of-type {\n",
       "        vertical-align: middle;\n",
       "    }\n",
       "\n",
       "    .dataframe tbody tr th {\n",
       "        vertical-align: top;\n",
       "    }\n",
       "\n",
       "    .dataframe thead th {\n",
       "        text-align: right;\n",
       "    }\n",
       "</style>\n",
       "<table border=\"1\" class=\"dataframe\">\n",
       "  <thead>\n",
       "    <tr style=\"text-align: right;\">\n",
       "      <th></th>\n",
       "      <th>eventid</th>\n",
       "      <th>Year</th>\n",
       "      <th>Month</th>\n",
       "      <th>Day</th>\n",
       "      <th>approxdate</th>\n",
       "      <th>extended</th>\n",
       "      <th>resolution</th>\n",
       "      <th>country</th>\n",
       "      <th>Country</th>\n",
       "      <th>region</th>\n",
       "      <th>...</th>\n",
       "      <th>scite1</th>\n",
       "      <th>scite2</th>\n",
       "      <th>scite3</th>\n",
       "      <th>dbsource</th>\n",
       "      <th>INT_LOG</th>\n",
       "      <th>INT_IDEO</th>\n",
       "      <th>INT_MISC</th>\n",
       "      <th>INT_ANY</th>\n",
       "      <th>related</th>\n",
       "      <th>nCasualties</th>\n",
       "    </tr>\n",
       "  </thead>\n",
       "  <tbody>\n",
       "    <tr>\n",
       "      <th>0</th>\n",
       "      <td>197000000001</td>\n",
       "      <td>1970</td>\n",
       "      <td>7</td>\n",
       "      <td>2</td>\n",
       "      <td>NaN</td>\n",
       "      <td>0</td>\n",
       "      <td>NaN</td>\n",
       "      <td>58</td>\n",
       "      <td>Dominican Republic</td>\n",
       "      <td>2</td>\n",
       "      <td>...</td>\n",
       "      <td>NaN</td>\n",
       "      <td>NaN</td>\n",
       "      <td>NaN</td>\n",
       "      <td>PGIS</td>\n",
       "      <td>0</td>\n",
       "      <td>0</td>\n",
       "      <td>0</td>\n",
       "      <td>0</td>\n",
       "      <td>NaN</td>\n",
       "      <td>1.0</td>\n",
       "    </tr>\n",
       "    <tr>\n",
       "      <th>1</th>\n",
       "      <td>197000000002</td>\n",
       "      <td>1970</td>\n",
       "      <td>0</td>\n",
       "      <td>0</td>\n",
       "      <td>NaN</td>\n",
       "      <td>0</td>\n",
       "      <td>NaN</td>\n",
       "      <td>130</td>\n",
       "      <td>Mexico</td>\n",
       "      <td>1</td>\n",
       "      <td>...</td>\n",
       "      <td>NaN</td>\n",
       "      <td>NaN</td>\n",
       "      <td>NaN</td>\n",
       "      <td>PGIS</td>\n",
       "      <td>0</td>\n",
       "      <td>1</td>\n",
       "      <td>1</td>\n",
       "      <td>1</td>\n",
       "      <td>NaN</td>\n",
       "      <td>0.0</td>\n",
       "    </tr>\n",
       "    <tr>\n",
       "      <th>2</th>\n",
       "      <td>197001000001</td>\n",
       "      <td>1970</td>\n",
       "      <td>1</td>\n",
       "      <td>0</td>\n",
       "      <td>NaN</td>\n",
       "      <td>0</td>\n",
       "      <td>NaN</td>\n",
       "      <td>160</td>\n",
       "      <td>Philippines</td>\n",
       "      <td>5</td>\n",
       "      <td>...</td>\n",
       "      <td>NaN</td>\n",
       "      <td>NaN</td>\n",
       "      <td>NaN</td>\n",
       "      <td>PGIS</td>\n",
       "      <td>-9</td>\n",
       "      <td>-9</td>\n",
       "      <td>1</td>\n",
       "      <td>1</td>\n",
       "      <td>NaN</td>\n",
       "      <td>1.0</td>\n",
       "    </tr>\n",
       "    <tr>\n",
       "      <th>3</th>\n",
       "      <td>197001000002</td>\n",
       "      <td>1970</td>\n",
       "      <td>1</td>\n",
       "      <td>0</td>\n",
       "      <td>NaN</td>\n",
       "      <td>0</td>\n",
       "      <td>NaN</td>\n",
       "      <td>78</td>\n",
       "      <td>Greece</td>\n",
       "      <td>8</td>\n",
       "      <td>...</td>\n",
       "      <td>NaN</td>\n",
       "      <td>NaN</td>\n",
       "      <td>NaN</td>\n",
       "      <td>PGIS</td>\n",
       "      <td>-9</td>\n",
       "      <td>-9</td>\n",
       "      <td>1</td>\n",
       "      <td>1</td>\n",
       "      <td>NaN</td>\n",
       "      <td>NaN</td>\n",
       "    </tr>\n",
       "    <tr>\n",
       "      <th>4</th>\n",
       "      <td>197001000003</td>\n",
       "      <td>1970</td>\n",
       "      <td>1</td>\n",
       "      <td>0</td>\n",
       "      <td>NaN</td>\n",
       "      <td>0</td>\n",
       "      <td>NaN</td>\n",
       "      <td>101</td>\n",
       "      <td>Japan</td>\n",
       "      <td>4</td>\n",
       "      <td>...</td>\n",
       "      <td>NaN</td>\n",
       "      <td>NaN</td>\n",
       "      <td>NaN</td>\n",
       "      <td>PGIS</td>\n",
       "      <td>-9</td>\n",
       "      <td>-9</td>\n",
       "      <td>1</td>\n",
       "      <td>1</td>\n",
       "      <td>NaN</td>\n",
       "      <td>NaN</td>\n",
       "    </tr>\n",
       "  </tbody>\n",
       "</table>\n",
       "<p>5 rows × 136 columns</p>\n",
       "</div>"
      ],
      "text/plain": [
       "        eventid  Year  Month  Day approxdate  extended resolution  country  \\\n",
       "0  197000000001  1970      7    2        NaN         0        NaN       58   \n",
       "1  197000000002  1970      0    0        NaN         0        NaN      130   \n",
       "2  197001000001  1970      1    0        NaN         0        NaN      160   \n",
       "3  197001000002  1970      1    0        NaN         0        NaN       78   \n",
       "4  197001000003  1970      1    0        NaN         0        NaN      101   \n",
       "\n",
       "              Country  region  ... scite1 scite2 scite3  dbsource  INT_LOG  \\\n",
       "0  Dominican Republic       2  ...    NaN    NaN    NaN      PGIS        0   \n",
       "1              Mexico       1  ...    NaN    NaN    NaN      PGIS        0   \n",
       "2         Philippines       5  ...    NaN    NaN    NaN      PGIS       -9   \n",
       "3              Greece       8  ...    NaN    NaN    NaN      PGIS       -9   \n",
       "4               Japan       4  ...    NaN    NaN    NaN      PGIS       -9   \n",
       "\n",
       "   INT_IDEO  INT_MISC INT_ANY related  nCasualties  \n",
       "0         0         0       0     NaN          1.0  \n",
       "1         1         1       1     NaN          0.0  \n",
       "2        -9         1       1     NaN          1.0  \n",
       "3        -9         1       1     NaN          NaN  \n",
       "4        -9         1       1     NaN          NaN  \n",
       "\n",
       "[5 rows x 136 columns]"
      ]
     },
     "execution_count": 10,
     "metadata": {},
     "output_type": "execute_result"
    }
   ],
   "source": [
    "df.head()"
   ]
  },
  {
   "cell_type": "code",
   "execution_count": 11,
   "id": "19fc6018",
   "metadata": {},
   "outputs": [
    {
     "data": {
      "text/html": [
       "<div>\n",
       "<style scoped>\n",
       "    .dataframe tbody tr th:only-of-type {\n",
       "        vertical-align: middle;\n",
       "    }\n",
       "\n",
       "    .dataframe tbody tr th {\n",
       "        vertical-align: top;\n",
       "    }\n",
       "\n",
       "    .dataframe thead th {\n",
       "        text-align: right;\n",
       "    }\n",
       "</style>\n",
       "<table border=\"1\" class=\"dataframe\">\n",
       "  <thead>\n",
       "    <tr style=\"text-align: right;\">\n",
       "      <th></th>\n",
       "      <th>Year</th>\n",
       "      <th>Month</th>\n",
       "      <th>Day</th>\n",
       "      <th>Country</th>\n",
       "      <th>Region</th>\n",
       "      <th>State</th>\n",
       "      <th>City</th>\n",
       "      <th>Attack_Type</th>\n",
       "      <th>Target_Type</th>\n",
       "      <th>Target_Subtype</th>\n",
       "      <th>Nationality_of_Vic</th>\n",
       "      <th>Gang_Name</th>\n",
       "      <th>nCasualties</th>\n",
       "      <th>Victim_Kidnapped</th>\n",
       "      <th>Weapon_type</th>\n",
       "    </tr>\n",
       "  </thead>\n",
       "  <tbody>\n",
       "    <tr>\n",
       "      <th>0</th>\n",
       "      <td>1970</td>\n",
       "      <td>7</td>\n",
       "      <td>2</td>\n",
       "      <td>Dominican Republic</td>\n",
       "      <td>Central America &amp; Caribbean</td>\n",
       "      <td>NaN</td>\n",
       "      <td>Santo Domingo</td>\n",
       "      <td>Assassination</td>\n",
       "      <td>Private Citizens &amp; Property</td>\n",
       "      <td>Named Civilian</td>\n",
       "      <td>Dominican Republic</td>\n",
       "      <td>MANO-D</td>\n",
       "      <td>1.0</td>\n",
       "      <td>0.0</td>\n",
       "      <td>Unknown</td>\n",
       "    </tr>\n",
       "    <tr>\n",
       "      <th>1</th>\n",
       "      <td>1970</td>\n",
       "      <td>0</td>\n",
       "      <td>0</td>\n",
       "      <td>Mexico</td>\n",
       "      <td>North America</td>\n",
       "      <td>Federal</td>\n",
       "      <td>Mexico city</td>\n",
       "      <td>Hostage Taking (Kidnapping)</td>\n",
       "      <td>Government (Diplomatic)</td>\n",
       "      <td>Diplomatic Personnel (outside of embassy, cons...</td>\n",
       "      <td>Belgium</td>\n",
       "      <td>23rd of September Communist League</td>\n",
       "      <td>0.0</td>\n",
       "      <td>1.0</td>\n",
       "      <td>Unknown</td>\n",
       "    </tr>\n",
       "    <tr>\n",
       "      <th>2</th>\n",
       "      <td>1970</td>\n",
       "      <td>1</td>\n",
       "      <td>0</td>\n",
       "      <td>Philippines</td>\n",
       "      <td>Southeast Asia</td>\n",
       "      <td>Tarlac</td>\n",
       "      <td>Unknown</td>\n",
       "      <td>Assassination</td>\n",
       "      <td>Journalists &amp; Media</td>\n",
       "      <td>Radio Journalist/Staff/Facility</td>\n",
       "      <td>United States</td>\n",
       "      <td>Unknown</td>\n",
       "      <td>1.0</td>\n",
       "      <td>0.0</td>\n",
       "      <td>Unknown</td>\n",
       "    </tr>\n",
       "    <tr>\n",
       "      <th>3</th>\n",
       "      <td>1970</td>\n",
       "      <td>1</td>\n",
       "      <td>0</td>\n",
       "      <td>Greece</td>\n",
       "      <td>Western Europe</td>\n",
       "      <td>Attica</td>\n",
       "      <td>Athens</td>\n",
       "      <td>Bombing/Explosion</td>\n",
       "      <td>Government (Diplomatic)</td>\n",
       "      <td>Embassy/Consulate</td>\n",
       "      <td>United States</td>\n",
       "      <td>Unknown</td>\n",
       "      <td>NaN</td>\n",
       "      <td>0.0</td>\n",
       "      <td>Explosives</td>\n",
       "    </tr>\n",
       "    <tr>\n",
       "      <th>4</th>\n",
       "      <td>1970</td>\n",
       "      <td>1</td>\n",
       "      <td>0</td>\n",
       "      <td>Japan</td>\n",
       "      <td>East Asia</td>\n",
       "      <td>Fukouka</td>\n",
       "      <td>Fukouka</td>\n",
       "      <td>Facility/Infrastructure Attack</td>\n",
       "      <td>Government (Diplomatic)</td>\n",
       "      <td>Embassy/Consulate</td>\n",
       "      <td>United States</td>\n",
       "      <td>Unknown</td>\n",
       "      <td>NaN</td>\n",
       "      <td>0.0</td>\n",
       "      <td>Incendiary</td>\n",
       "    </tr>\n",
       "  </tbody>\n",
       "</table>\n",
       "</div>"
      ],
      "text/plain": [
       "   Year  Month  Day             Country                       Region    State  \\\n",
       "0  1970      7    2  Dominican Republic  Central America & Caribbean      NaN   \n",
       "1  1970      0    0              Mexico                North America  Federal   \n",
       "2  1970      1    0         Philippines               Southeast Asia   Tarlac   \n",
       "3  1970      1    0              Greece               Western Europe   Attica   \n",
       "4  1970      1    0               Japan                    East Asia  Fukouka   \n",
       "\n",
       "            City                     Attack_Type                  Target_Type  \\\n",
       "0  Santo Domingo                   Assassination  Private Citizens & Property   \n",
       "1    Mexico city     Hostage Taking (Kidnapping)      Government (Diplomatic)   \n",
       "2        Unknown                   Assassination          Journalists & Media   \n",
       "3         Athens               Bombing/Explosion      Government (Diplomatic)   \n",
       "4        Fukouka  Facility/Infrastructure Attack      Government (Diplomatic)   \n",
       "\n",
       "                                      Target_Subtype  Nationality_of_Vic  \\\n",
       "0                                     Named Civilian  Dominican Republic   \n",
       "1  Diplomatic Personnel (outside of embassy, cons...             Belgium   \n",
       "2                    Radio Journalist/Staff/Facility       United States   \n",
       "3                                  Embassy/Consulate       United States   \n",
       "4                                  Embassy/Consulate       United States   \n",
       "\n",
       "                            Gang_Name  nCasualties  Victim_Kidnapped  \\\n",
       "0                              MANO-D          1.0               0.0   \n",
       "1  23rd of September Communist League          0.0               1.0   \n",
       "2                             Unknown          1.0               0.0   \n",
       "3                             Unknown          NaN               0.0   \n",
       "4                             Unknown          NaN               0.0   \n",
       "\n",
       "  Weapon_type  \n",
       "0     Unknown  \n",
       "1     Unknown  \n",
       "2     Unknown  \n",
       "3  Explosives  \n",
       "4  Incendiary  "
      ]
     },
     "execution_count": 11,
     "metadata": {},
     "output_type": "execute_result"
    }
   ],
   "source": [
    "# Now take only those columns which are required for analysis in the dataset.\n",
    "\n",
    "df = df[['Year','Month','Day','Country','Region','State','City','Attack_Type','Target_Type','Target_Subtype',\n",
    "         'Nationality_of_Vic','Gang_Name','nCasualties','Victim_Kidnapped','Weapon_type']]\n",
    "df.head()"
   ]
  },
  {
   "cell_type": "code",
   "execution_count": 12,
   "id": "c8f93641",
   "metadata": {},
   "outputs": [
    {
     "data": {
      "text/plain": [
       "Year                      0\n",
       "Month                     0\n",
       "Day                       0\n",
       "Country                   0\n",
       "Region                    0\n",
       "State                   421\n",
       "City                    434\n",
       "Attack_Type               0\n",
       "Target_Type               0\n",
       "Target_Subtype        10373\n",
       "Nationality_of_Vic     1559\n",
       "Gang_Name                 0\n",
       "nCasualties           16874\n",
       "Victim_Kidnapped        178\n",
       "Weapon_type               0\n",
       "dtype: int64"
      ]
     },
     "execution_count": 12,
     "metadata": {},
     "output_type": "execute_result"
    }
   ],
   "source": [
    "# Check null values\n",
    "df.isnull().sum()"
   ]
  },
  {
   "cell_type": "code",
   "execution_count": 13,
   "id": "a26687ab",
   "metadata": {},
   "outputs": [],
   "source": [
    "#Fill NaN values in Target_subtype column as Others\n",
    "df['Target_Subtype'] = df['Target_Subtype'].fillna('others')"
   ]
  },
  {
   "cell_type": "code",
   "execution_count": 14,
   "id": "cbb55d6d",
   "metadata": {},
   "outputs": [],
   "source": [
    "#Fill NaN values in State column as Unknown\n",
    "df['State'] = df['State'].fillna('Unknown')"
   ]
  },
  {
   "cell_type": "code",
   "execution_count": 15,
   "id": "8ded9810",
   "metadata": {},
   "outputs": [],
   "source": [
    "#Fill NaN values in State column as Unknown\n",
    "df['City'] = df['City'].fillna('Unknown')"
   ]
  },
  {
   "cell_type": "code",
   "execution_count": 16,
   "id": "906b8209",
   "metadata": {},
   "outputs": [],
   "source": [
    "#Fill NaN values in natinality of victim column as Unknown\n",
    "df['Nationality_of_Vic'].fillna('Unknown', inplace = True)"
   ]
  },
  {
   "cell_type": "code",
   "execution_count": 17,
   "id": "14d92f1f",
   "metadata": {},
   "outputs": [
    {
     "name": "stdout",
     "output_type": "stream",
     "text": [
      "<class 'pandas.core.frame.DataFrame'>\n",
      "RangeIndex: 181691 entries, 0 to 181690\n",
      "Data columns (total 15 columns):\n",
      " #   Column              Non-Null Count   Dtype  \n",
      "---  ------              --------------   -----  \n",
      " 0   Year                181691 non-null  int64  \n",
      " 1   Month               181691 non-null  int64  \n",
      " 2   Day                 181691 non-null  int64  \n",
      " 3   Country             181691 non-null  object \n",
      " 4   Region              181691 non-null  object \n",
      " 5   State               181691 non-null  object \n",
      " 6   City                181691 non-null  object \n",
      " 7   Attack_Type         181691 non-null  object \n",
      " 8   Target_Type         181691 non-null  object \n",
      " 9   Target_Subtype      181691 non-null  object \n",
      " 10  Nationality_of_Vic  181691 non-null  object \n",
      " 11  Gang_Name           181691 non-null  object \n",
      " 12  nCasualties         164817 non-null  float64\n",
      " 13  Victim_Kidnapped    181513 non-null  float64\n",
      " 14  Weapon_type         181691 non-null  object \n",
      "dtypes: float64(2), int64(3), object(10)\n",
      "memory usage: 20.8+ MB\n"
     ]
    }
   ],
   "source": [
    "df.info()"
   ]
  },
  {
   "cell_type": "code",
   "execution_count": 18,
   "id": "bc041b29",
   "metadata": {},
   "outputs": [
    {
     "data": {
      "text/plain": [
       "array(['Unknown', 'Explosives', 'Incendiary', 'Firearms', 'Chemical',\n",
       "       'Melee', 'Sabotage Equipment',\n",
       "       'Vehicle (not to include vehicle-borne explosives, i.e., car or truck bombs)',\n",
       "       'Fake Weapons', 'Radiological', 'Other', 'Biological'],\n",
       "      dtype=object)"
      ]
     },
     "execution_count": 18,
     "metadata": {},
     "output_type": "execute_result"
    }
   ],
   "source": [
    "df['Weapon_type'].unique()"
   ]
  },
  {
   "cell_type": "code",
   "execution_count": 19,
   "id": "834e16ff",
   "metadata": {},
   "outputs": [],
   "source": [
    "# Make simple reading \n",
    "df.replace({'Vehicle (not to include vehicle-borne explosives, i.e., car or truck bombs)': 'Vehicle'},inplace = True)"
   ]
  },
  {
   "cell_type": "markdown",
   "id": "5836f2d7",
   "metadata": {},
   "source": [
    "## Exploratory Data Analysis"
   ]
  },
  {
   "cell_type": "code",
   "execution_count": 20,
   "id": "e55f5448",
   "metadata": {},
   "outputs": [
    {
     "data": {
      "text/html": [
       "<div>\n",
       "<style scoped>\n",
       "    .dataframe tbody tr th:only-of-type {\n",
       "        vertical-align: middle;\n",
       "    }\n",
       "\n",
       "    .dataframe tbody tr th {\n",
       "        vertical-align: top;\n",
       "    }\n",
       "\n",
       "    .dataframe thead th {\n",
       "        text-align: right;\n",
       "    }\n",
       "</style>\n",
       "<table border=\"1\" class=\"dataframe\">\n",
       "  <thead>\n",
       "    <tr style=\"text-align: right;\">\n",
       "      <th></th>\n",
       "      <th>Year</th>\n",
       "      <th>Month</th>\n",
       "      <th>Day</th>\n",
       "      <th>Country</th>\n",
       "      <th>Region</th>\n",
       "      <th>State</th>\n",
       "      <th>City</th>\n",
       "      <th>Attack_Type</th>\n",
       "      <th>Target_Type</th>\n",
       "      <th>Target_Subtype</th>\n",
       "      <th>Nationality_of_Vic</th>\n",
       "      <th>Gang_Name</th>\n",
       "      <th>nCasualties</th>\n",
       "      <th>Victim_Kidnapped</th>\n",
       "      <th>Weapon_type</th>\n",
       "    </tr>\n",
       "  </thead>\n",
       "  <tbody>\n",
       "    <tr>\n",
       "      <th>0</th>\n",
       "      <td>1970</td>\n",
       "      <td>7</td>\n",
       "      <td>2</td>\n",
       "      <td>Dominican Republic</td>\n",
       "      <td>Central America &amp; Caribbean</td>\n",
       "      <td>Unknown</td>\n",
       "      <td>Santo Domingo</td>\n",
       "      <td>Assassination</td>\n",
       "      <td>Private Citizens &amp; Property</td>\n",
       "      <td>Named Civilian</td>\n",
       "      <td>Dominican Republic</td>\n",
       "      <td>MANO-D</td>\n",
       "      <td>1.0</td>\n",
       "      <td>0.0</td>\n",
       "      <td>Unknown</td>\n",
       "    </tr>\n",
       "    <tr>\n",
       "      <th>1</th>\n",
       "      <td>1970</td>\n",
       "      <td>0</td>\n",
       "      <td>0</td>\n",
       "      <td>Mexico</td>\n",
       "      <td>North America</td>\n",
       "      <td>Federal</td>\n",
       "      <td>Mexico city</td>\n",
       "      <td>Hostage Taking (Kidnapping)</td>\n",
       "      <td>Government (Diplomatic)</td>\n",
       "      <td>Diplomatic Personnel (outside of embassy, cons...</td>\n",
       "      <td>Belgium</td>\n",
       "      <td>23rd of September Communist League</td>\n",
       "      <td>0.0</td>\n",
       "      <td>1.0</td>\n",
       "      <td>Unknown</td>\n",
       "    </tr>\n",
       "    <tr>\n",
       "      <th>2</th>\n",
       "      <td>1970</td>\n",
       "      <td>1</td>\n",
       "      <td>0</td>\n",
       "      <td>Philippines</td>\n",
       "      <td>Southeast Asia</td>\n",
       "      <td>Tarlac</td>\n",
       "      <td>Unknown</td>\n",
       "      <td>Assassination</td>\n",
       "      <td>Journalists &amp; Media</td>\n",
       "      <td>Radio Journalist/Staff/Facility</td>\n",
       "      <td>United States</td>\n",
       "      <td>Unknown</td>\n",
       "      <td>1.0</td>\n",
       "      <td>0.0</td>\n",
       "      <td>Unknown</td>\n",
       "    </tr>\n",
       "    <tr>\n",
       "      <th>3</th>\n",
       "      <td>1970</td>\n",
       "      <td>1</td>\n",
       "      <td>0</td>\n",
       "      <td>Greece</td>\n",
       "      <td>Western Europe</td>\n",
       "      <td>Attica</td>\n",
       "      <td>Athens</td>\n",
       "      <td>Bombing/Explosion</td>\n",
       "      <td>Government (Diplomatic)</td>\n",
       "      <td>Embassy/Consulate</td>\n",
       "      <td>United States</td>\n",
       "      <td>Unknown</td>\n",
       "      <td>NaN</td>\n",
       "      <td>0.0</td>\n",
       "      <td>Explosives</td>\n",
       "    </tr>\n",
       "    <tr>\n",
       "      <th>4</th>\n",
       "      <td>1970</td>\n",
       "      <td>1</td>\n",
       "      <td>0</td>\n",
       "      <td>Japan</td>\n",
       "      <td>East Asia</td>\n",
       "      <td>Fukouka</td>\n",
       "      <td>Fukouka</td>\n",
       "      <td>Facility/Infrastructure Attack</td>\n",
       "      <td>Government (Diplomatic)</td>\n",
       "      <td>Embassy/Consulate</td>\n",
       "      <td>United States</td>\n",
       "      <td>Unknown</td>\n",
       "      <td>NaN</td>\n",
       "      <td>0.0</td>\n",
       "      <td>Incendiary</td>\n",
       "    </tr>\n",
       "  </tbody>\n",
       "</table>\n",
       "</div>"
      ],
      "text/plain": [
       "   Year  Month  Day             Country                       Region    State  \\\n",
       "0  1970      7    2  Dominican Republic  Central America & Caribbean  Unknown   \n",
       "1  1970      0    0              Mexico                North America  Federal   \n",
       "2  1970      1    0         Philippines               Southeast Asia   Tarlac   \n",
       "3  1970      1    0              Greece               Western Europe   Attica   \n",
       "4  1970      1    0               Japan                    East Asia  Fukouka   \n",
       "\n",
       "            City                     Attack_Type                  Target_Type  \\\n",
       "0  Santo Domingo                   Assassination  Private Citizens & Property   \n",
       "1    Mexico city     Hostage Taking (Kidnapping)      Government (Diplomatic)   \n",
       "2        Unknown                   Assassination          Journalists & Media   \n",
       "3         Athens               Bombing/Explosion      Government (Diplomatic)   \n",
       "4        Fukouka  Facility/Infrastructure Attack      Government (Diplomatic)   \n",
       "\n",
       "                                      Target_Subtype  Nationality_of_Vic  \\\n",
       "0                                     Named Civilian  Dominican Republic   \n",
       "1  Diplomatic Personnel (outside of embassy, cons...             Belgium   \n",
       "2                    Radio Journalist/Staff/Facility       United States   \n",
       "3                                  Embassy/Consulate       United States   \n",
       "4                                  Embassy/Consulate       United States   \n",
       "\n",
       "                            Gang_Name  nCasualties  Victim_Kidnapped  \\\n",
       "0                              MANO-D          1.0               0.0   \n",
       "1  23rd of September Communist League          0.0               1.0   \n",
       "2                             Unknown          1.0               0.0   \n",
       "3                             Unknown          NaN               0.0   \n",
       "4                             Unknown          NaN               0.0   \n",
       "\n",
       "  Weapon_type  \n",
       "0     Unknown  \n",
       "1     Unknown  \n",
       "2     Unknown  \n",
       "3  Explosives  \n",
       "4  Incendiary  "
      ]
     },
     "execution_count": 20,
     "metadata": {},
     "output_type": "execute_result"
    }
   ],
   "source": [
    "# This is our final dataset\n",
    "df.head()"
   ]
  },
  {
   "cell_type": "code",
   "execution_count": 21,
   "id": "21e55ffd",
   "metadata": {},
   "outputs": [
    {
     "data": {
      "text/plain": [
       "(181691, 15)"
      ]
     },
     "execution_count": 21,
     "metadata": {},
     "output_type": "execute_result"
    }
   ],
   "source": [
    "df.shape"
   ]
  },
  {
   "cell_type": "code",
   "execution_count": 22,
   "id": "21152ce4",
   "metadata": {},
   "outputs": [
    {
     "data": {
      "text/plain": [
       "array(['Dominican Republic', 'Mexico', 'Philippines', 'Greece', 'Japan',\n",
       "       'United States', 'Uruguay', 'Italy', 'East Germany (GDR)',\n",
       "       'Ethiopia', 'Guatemala', 'Venezuela', 'West Germany (FRG)',\n",
       "       'Switzerland', 'Jordan', 'Spain', 'Brazil', 'Egypt', 'Argentina',\n",
       "       'Lebanon', 'Ireland', 'Turkey', 'Paraguay', 'Iran',\n",
       "       'United Kingdom', 'Colombia', 'Bolivia', 'Nicaragua',\n",
       "       'Netherlands', 'Belgium', 'Canada', 'Australia', 'Pakistan',\n",
       "       'Zambia', 'Sweden', 'Costa Rica', 'South Yemen', 'Cambodia',\n",
       "       'Israel', 'Poland', 'Taiwan', 'Panama', 'Kuwait',\n",
       "       'West Bank and Gaza Strip', 'Austria', 'Czechoslovakia', 'India',\n",
       "       'France', 'South Vietnam', 'Brunei', 'Zaire',\n",
       "       \"People's Republic of the Congo\", 'Portugal', 'Algeria',\n",
       "       'El Salvador', 'Thailand', 'Haiti', 'Sudan', 'Morocco', 'Cyprus',\n",
       "       'Myanmar', 'Afghanistan', 'Peru', 'Chile', 'Honduras',\n",
       "       'Yugoslavia', 'Ecuador', 'New Zealand', 'Malaysia', 'Singapore',\n",
       "       'Botswana', 'Jamaica', 'Chad', 'North Yemen', 'Andorra', 'Syria',\n",
       "       'South Korea', 'United Arab Emirates', 'South Africa', 'Kenya',\n",
       "       'Iraq', 'Somalia', 'Tanzania', 'Sri Lanka', 'Namibia', 'Bahamas',\n",
       "       'Nigeria', 'Barbados', 'Trinidad and Tobago', 'Bangladesh',\n",
       "       'Angola', 'Mauritania', 'Saudi Arabia', 'Djibouti', 'Indonesia',\n",
       "       'Malta', 'Rhodesia', 'Soviet Union', 'Denmark', 'Western Sahara',\n",
       "       'Guyana', 'Mozambique', 'Tunisia', 'Uganda', 'Norway', 'Lesotho',\n",
       "       'Gabon', 'Libya', 'Bahrain', 'Hong Kong', 'Senegal', 'Zimbabwe',\n",
       "       'Guinea', 'Grenada', 'New Hebrides', 'Belize', 'Guadeloupe',\n",
       "       'Martinique', 'Vatican City', 'Albania',\n",
       "       'Central African Republic', 'Seychelles', 'Dominica', 'Qatar',\n",
       "       'Bulgaria', 'Suriname', 'Swaziland', 'Luxembourg', 'Iceland',\n",
       "       'French Guiana', 'Falkland Islands', 'Burkina Faso',\n",
       "       'New Caledonia', 'Romania', 'Niger', 'Nepal', 'Togo', 'Finland',\n",
       "       'Fiji', 'Ghana', 'Maldives', 'Mauritius', 'Hungary', 'Laos',\n",
       "       'Papua New Guinea', 'China', 'Liberia', 'Republic of the Congo',\n",
       "       'Mali', 'Germany', 'Yemen', 'Rwanda', 'Sierra Leone', 'Cameroon',\n",
       "       'Cuba', 'Croatia', 'Georgia', 'Azerbaijan', 'Madagascar',\n",
       "       'Lithuania', 'Burundi', 'Ukraine', 'Moldova', 'Armenia', 'Russia',\n",
       "       'Ivory Coast', 'Kazakhstan', 'Antigua and Barbuda',\n",
       "       'Bosnia-Herzegovina', 'Equatorial Guinea', 'Tajikistan', 'Malawi',\n",
       "       'Uzbekistan', 'Latvia', 'Estonia', 'Vietnam', 'Comoros', 'Benin',\n",
       "       'Slovak Republic', 'Macedonia', 'Wallis and Futuna', 'Belarus',\n",
       "       'Czech Republic', 'Slovenia', 'Gambia', 'North Korea', 'Eritrea',\n",
       "       'St. Kitts and Nevis', 'French Polynesia', 'Macau', 'Kyrgyzstan',\n",
       "       'Vanuatu', 'Democratic Republic of the Congo', 'Kosovo',\n",
       "       'Solomon Islands', 'East Timor', 'St. Lucia', 'Guinea-Bissau',\n",
       "       'Montenegro', 'International', 'Turkmenistan', 'Serbia-Montenegro',\n",
       "       'Bhutan', 'Serbia', 'South Sudan'], dtype=object)"
      ]
     },
     "execution_count": 22,
     "metadata": {},
     "output_type": "execute_result"
    }
   ],
   "source": [
    "# Check were affected countries.\n",
    "df['Country'].unique()"
   ]
  },
  {
   "cell_type": "code",
   "execution_count": 23,
   "id": "2f64143d",
   "metadata": {},
   "outputs": [
    {
     "data": {
      "text/plain": [
       "205"
      ]
     },
     "execution_count": 23,
     "metadata": {},
     "output_type": "execute_result"
    }
   ],
   "source": [
    "# Check number of countries were noted in the data\n",
    "len(df['Country'].unique())"
   ]
  },
  {
   "cell_type": "code",
   "execution_count": 24,
   "id": "aa96440a",
   "metadata": {},
   "outputs": [
    {
     "data": {
      "text/plain": [
       "array(['Central America & Caribbean', 'North America', 'Southeast Asia',\n",
       "       'Western Europe', 'East Asia', 'South America', 'Eastern Europe',\n",
       "       'Sub-Saharan Africa', 'Middle East & North Africa',\n",
       "       'Australasia & Oceania', 'South Asia', 'Central Asia'],\n",
       "      dtype=object)"
      ]
     },
     "execution_count": 24,
     "metadata": {},
     "output_type": "execute_result"
    }
   ],
   "source": [
    "# check were affected regions\n",
    "df['Region'].unique()"
   ]
  },
  {
   "cell_type": "code",
   "execution_count": 25,
   "id": "be803113",
   "metadata": {},
   "outputs": [
    {
     "data": {
      "text/plain": [
       "12"
      ]
     },
     "execution_count": 25,
     "metadata": {},
     "output_type": "execute_result"
    }
   ],
   "source": [
    "# Check number of regions were noted in the data\n",
    "len(df['Region'].unique())"
   ]
  },
  {
   "cell_type": "code",
   "execution_count": 26,
   "id": "bf60b079",
   "metadata": {},
   "outputs": [
    {
     "data": {
      "text/plain": [
       "array(['Unknown', 'Federal', 'Tarlac', ..., 'Carlow', 'Western Lakes',\n",
       "       'Vidzeme'], dtype=object)"
      ]
     },
     "execution_count": 26,
     "metadata": {},
     "output_type": "execute_result"
    }
   ],
   "source": [
    "# check were affected regions\n",
    "df['State'].unique()"
   ]
  },
  {
   "cell_type": "code",
   "execution_count": 27,
   "id": "110fdbb4",
   "metadata": {},
   "outputs": [
    {
     "data": {
      "text/plain": [
       "2855"
      ]
     },
     "execution_count": 27,
     "metadata": {},
     "output_type": "execute_result"
    }
   ],
   "source": [
    "# Check number of states were noted in the data\n",
    "len(df['State'].unique())"
   ]
  },
  {
   "cell_type": "code",
   "execution_count": 28,
   "id": "770067ff",
   "metadata": {},
   "outputs": [
    {
     "data": {
      "text/plain": [
       "array(['Assassination', 'Hostage Taking (Kidnapping)',\n",
       "       'Bombing/Explosion', 'Facility/Infrastructure Attack',\n",
       "       'Armed Assault', 'Hijacking', 'Unknown', 'Unarmed Assault',\n",
       "       'Hostage Taking (Barricade Incident)'], dtype=object)"
      ]
     },
     "execution_count": 28,
     "metadata": {},
     "output_type": "execute_result"
    }
   ],
   "source": [
    "# check attack type used by terrorist\n",
    "df['Attack_Type'].unique()"
   ]
  },
  {
   "cell_type": "code",
   "execution_count": 29,
   "id": "f5f82eb0",
   "metadata": {},
   "outputs": [
    {
     "data": {
      "text/plain": [
       "array(['Private Citizens & Property', 'Government (Diplomatic)',\n",
       "       'Journalists & Media', 'Police', 'Utilities', 'Military',\n",
       "       'Government (General)', 'Airports & Aircraft', 'Business',\n",
       "       'Educational Institution', 'Violent Political Party',\n",
       "       'Religious Figures/Institutions', 'Unknown', 'Transportation',\n",
       "       'Tourists', 'NGO', 'Telecommunication', 'Food or Water Supply',\n",
       "       'Terrorists/Non-State Militia', 'Other', 'Maritime',\n",
       "       'Abortion Related'], dtype=object)"
      ]
     },
     "execution_count": 29,
     "metadata": {},
     "output_type": "execute_result"
    }
   ],
   "source": [
    "# check target type type used by terrorist\n",
    "df['Target_Type'].unique()"
   ]
  },
  {
   "cell_type": "code",
   "execution_count": 30,
   "id": "8342bf3d",
   "metadata": {},
   "outputs": [
    {
     "data": {
      "text/plain": [
       "array(['Named Civilian',\n",
       "       'Diplomatic Personnel (outside of embassy, consulate)',\n",
       "       'Radio Journalist/Staff/Facility', 'Embassy/Consulate',\n",
       "       'Police Building (headquarters, station, school)',\n",
       "       'Police Security Forces/Officers', 'Electricity',\n",
       "       'Military Recruiting Station/Academy',\n",
       "       'Government Building/Facility/Office',\n",
       "       'Military Barracks/Base/Headquarters/Checkpost',\n",
       "       'Aircraft (not at an airport)', 'Retail/Grocery/Bakery', 'others',\n",
       "       'Military Personnel (soldiers, troops, officers, forces)',\n",
       "       'School/University/Educational Building',\n",
       "       'Multinational Corporation', 'Party Office/Facility',\n",
       "       'House/Apartment/Residence', 'Race/Ethnicity Identified',\n",
       "       'Judge/Attorney/Court',\n",
       "       'Police Patrol (including vehicles and convoys)',\n",
       "       'Place of Worship', 'Vehicles/Transportation',\n",
       "       'Bus (excluding tourists)',\n",
       "       'Politician or Political Party Movement/Meeting/Rally',\n",
       "       'Hotel/Resort', 'Airport', 'Bank/Commerce', 'Construction',\n",
       "       'Tour Bus/Van', 'Train/Train Tracks/Trolley',\n",
       "       'Religion Identified', 'Gas/Oil/Electric',\n",
       "       'Newspaper Journalist/Staff/Facility', 'Military Maritime',\n",
       "       'Head of State', 'Entertainment/Cultural/Stadium/Casino',\n",
       "       'Labor Union Related', 'Restaurant/Bar/Café',\n",
       "       'Museum/Cultural Center/Cultural House',\n",
       "       'Government Personnel (excluding police, military)',\n",
       "       'Public Area (garden, parking lot, garage, beach, public building, camp)',\n",
       "       'Industrial/Textiles/Factory', 'International NGO',\n",
       "       'Unnamed Civilian/Unspecified', 'Political Party Member/Rally',\n",
       "       'Telephone/Telegraph', 'Airline Officer/Personnel', 'Water Supply',\n",
       "       'Laborer (General)/Occupation Identified',\n",
       "       'Military Transportation/Vehicle (excluding convoys)',\n",
       "       'Domestic NGO', 'Radio', 'Farm/Ranch', 'Terrorist',\n",
       "       'Military Unit/Patrol/Convoy', 'Fire Fighter/Truck',\n",
       "       'Other Personnel',\n",
       "       'Procession/Gathering (funeral, wedding, birthday, religious)',\n",
       "       'Mining', 'Oil', 'Medical/Pharmaceutical',\n",
       "       'Village/City/Town/Suburb', 'Memorial/Cemetery/Monument',\n",
       "       'International Organization (peacekeeper, aid agency, compound)',\n",
       "       'Affiliated Institution', 'Tourism Travel Agency', 'Television',\n",
       "       'Other (including online news agencies)',\n",
       "       'Television Journalist/Staff/Facility',\n",
       "       'Party Official/Candidate/Other Personnel',\n",
       "       'Highway/Road/Toll/Traffic Signal', 'Oil Tanker', 'Other Facility',\n",
       "       'Tourist', 'Royalty', 'Civilian Maritime', 'Gas', 'NATO',\n",
       "       'Military Aircraft', 'Taxi/Rickshaw',\n",
       "       'Teacher/Professor/Instructor', 'Religious Figure',\n",
       "       'Commercial Maritime', 'Non-State Militia',\n",
       "       'Marketplace/Plaza/Square', 'Prison/Jail', 'Subway',\n",
       "       'Bus Station/Stop', 'Bridge/Car Tunnel', 'Intelligence',\n",
       "       'Alleged Informant', 'Student', 'Legal Services', 'Clinics',\n",
       "       'Election-related', 'Multiple Telecommunication Targets', 'Farmer',\n",
       "       'Food Supply', 'Private Security Company/Firm', 'Port',\n",
       "       'Police Checkpoint', 'Protester',\n",
       "       'Refugee (including Camps/IDP/Asylum Seekers)', 'Paramilitary',\n",
       "       'Military Checkpoint', 'Rally', 'Personnel',\n",
       "       'Internet Infrastructure', 'Ambulance', 'Military Weaponry',\n",
       "       'Demilitarized Zone (including Green Zone)',\n",
       "       'Non-combatant Personnel'], dtype=object)"
      ]
     },
     "execution_count": 30,
     "metadata": {},
     "output_type": "execute_result"
    }
   ],
   "source": [
    "# check target subtype type used by terrorist\n",
    "df['Target_Subtype'].unique()"
   ]
  },
  {
   "cell_type": "code",
   "execution_count": 31,
   "id": "f8deb79e",
   "metadata": {},
   "outputs": [
    {
     "data": {
      "text/plain": [
       "array(['Dominican Republic', 'Belgium', 'United States', 'Uruguay',\n",
       "       'Germany', 'Great Britain', 'Venezuela', 'Puerto Rico', 'Israel',\n",
       "       'Austria', 'Switzerland', 'Jordan', 'Ethiopia', 'Spain', 'Unknown',\n",
       "       'Japan', 'International', 'Egypt', 'Paraguay', 'Soviet Union',\n",
       "       'Ireland', 'Argentina', 'Philippines', 'China',\n",
       "       'West Bank and Gaza Strip', 'Multinational', 'Northern Ireland',\n",
       "       'Brazil', 'Haiti', 'South Africa', 'Portugal', 'Colombia',\n",
       "       'Greece', 'Nicaragua', 'Indonesia', 'Yugoslavia', 'Italy',\n",
       "       'Rhodesia', 'Ivory Coast', 'Iran', 'Canada', 'Poland', 'Sweden',\n",
       "       'Turkey', 'Costa Rica', 'Russia', 'Iraq', 'Cuba', 'France',\n",
       "       'Malawi', 'Democratic Republic of the Congo', 'Netherlands',\n",
       "       'Chile', 'Hong Kong', 'Yemen', 'Mexico', 'Syria', 'India',\n",
       "       'New Zealand', 'Senegal', 'Algeria', 'Peru', 'Czechoslovakia',\n",
       "       'Saudi Arabia', 'Denmark', 'West Germany (FRG)', 'Bahamas',\n",
       "       'Bolivia', 'El Salvador', 'Botswana', 'Guatemala', 'Lebanon',\n",
       "       'North Korea', 'Albania', 'South Korea', 'United Kingdom',\n",
       "       'Pakistan', 'Kenya', 'Cyprus', 'Panama', 'Sri Lanka', 'Ecuador',\n",
       "       'Malaysia', 'Morocco', 'Somalia', 'Nigeria', 'Namibia', 'Armenia',\n",
       "       'Barbados', 'Kuwait', 'Mozambique', 'Guyana', 'Taiwan', 'Tunisia',\n",
       "       'Myanmar', 'Trinidad and Tobago', 'Mauritania', 'Bulgaria',\n",
       "       'Thailand', 'Bahrain', 'Finland', 'Vietnam',\n",
       "       'United Arab Emirates', 'Malta', 'Australia', 'Zimbabwe', 'Zambia',\n",
       "       'Angola', 'Norway', 'Jamaica', 'Uganda', 'Croatia', 'Lesotho',\n",
       "       'Tanzania', 'Guinea', 'Fiji', 'Djibouti', 'Libya', 'Eritrea',\n",
       "       'Afghanistan', 'Honduras', 'Zaire', 'Mali', 'Bangladesh',\n",
       "       'Grenada', 'Vanuatu', 'Belize', 'North Yemen', 'Romania', 'Sudan',\n",
       "       'Chad', 'Central African Republic', 'Liberia', 'Seychelles',\n",
       "       'Dominica', \"People's Republic of the Congo\", 'Comoros',\n",
       "       'Suriname', 'Vatican City', 'Lithuania', 'Guadeloupe',\n",
       "       'Martinique', 'Western Sahara', 'Swaziland', 'Burkina Faso',\n",
       "       'Man, Isle of', 'New Caledonia', 'Cambodia', 'Singapore',\n",
       "       'Corsica', 'Luxembourg', 'Niger', 'Nepal', 'Hungary', 'Togo',\n",
       "       'Iceland', 'Sinhalese', 'Ghana', 'Maldives', 'Mauritius',\n",
       "       'Papua New Guinea', 'Qatar', 'Rwanda', 'Cameroon', 'Estonia',\n",
       "       'Sierra Leone', 'Latvia', 'Greenland', 'Bosnia-Herzegovina',\n",
       "       'Madagascar', 'Burundi', 'Azerbaijan', 'Kazakhstan', 'Georgia',\n",
       "       'Antigua and Barbuda', 'Commonwealth of Independent States',\n",
       "       'Ukraine', 'Moldova', 'Equatorial Guinea', 'Tajikistan', 'Laos',\n",
       "       'Brunei', 'Uzbekistan', 'Serbia-Montenegro',\n",
       "       'Republic of the Congo', 'Gabon', 'Slovak Republic', 'Macedonia',\n",
       "       'Mongolia', 'Benin', 'Belarus', 'Oman', 'Czech Republic', 'Gambia',\n",
       "       'Asian', 'Serbia', 'St. Kitts and Nevis', 'Kyrgyzstan', 'Macau',\n",
       "       'Slovenia', 'French Guiana', 'East Timor', 'Kosovo',\n",
       "       'Solomon Islands', 'St. Lucia', 'Guinea-Bissau', 'Montenegro',\n",
       "       'Bhutan', 'Bermuda', 'St. Martin', 'South Sudan', 'Turkmenistan',\n",
       "       'Saba (Netherlands Antilles)', 'Tuvalu', 'Virgin Islands (U.S.)',\n",
       "       'Marshall Islands'], dtype=object)"
      ]
     },
     "execution_count": 31,
     "metadata": {},
     "output_type": "execute_result"
    }
   ],
   "source": [
    "# check the country of affected citizens\n",
    "df['Nationality_of_Vic'].unique()"
   ]
  },
  {
   "cell_type": "code",
   "execution_count": 32,
   "id": "a8ecdb63",
   "metadata": {},
   "outputs": [
    {
     "data": {
      "text/plain": [
       "216"
      ]
     },
     "execution_count": 32,
     "metadata": {},
     "output_type": "execute_result"
    }
   ],
   "source": [
    "# check the number contries of affected citizens\n",
    "len(df['Nationality_of_Vic'].unique())"
   ]
  },
  {
   "cell_type": "code",
   "execution_count": 33,
   "id": "69b1dc26",
   "metadata": {},
   "outputs": [
    {
     "data": {
      "text/plain": [
       "array(['MANO-D', '23rd of September Communist League', 'Unknown', ...,\n",
       "       'Fatoni Warriors', 'Minorities of Metropolitan Attacks',\n",
       "       'Baloch Republican Party'], dtype=object)"
      ]
     },
     "execution_count": 33,
     "metadata": {},
     "output_type": "execute_result"
    }
   ],
   "source": [
    "# check names of terrorist organizations \n",
    "df['Gang_Name'].unique()"
   ]
  },
  {
   "cell_type": "code",
   "execution_count": 34,
   "id": "67f78b04",
   "metadata": {},
   "outputs": [
    {
     "data": {
      "text/plain": [
       "3537"
      ]
     },
     "execution_count": 34,
     "metadata": {},
     "output_type": "execute_result"
    }
   ],
   "source": [
    "# number of terrorist organizations\n",
    "len(df['Gang_Name'].unique())"
   ]
  },
  {
   "cell_type": "code",
   "execution_count": 35,
   "id": "45fa1e86",
   "metadata": {},
   "outputs": [
    {
     "data": {
      "text/plain": [
       "array(['Unknown', 'Explosives', 'Incendiary', 'Firearms', 'Chemical',\n",
       "       'Melee', 'Sabotage Equipment', 'Vehicle', 'Fake Weapons',\n",
       "       'Radiological', 'Other', 'Biological'], dtype=object)"
      ]
     },
     "execution_count": 35,
     "metadata": {},
     "output_type": "execute_result"
    }
   ],
   "source": [
    "# weapons type used by terrorist\n",
    "df['Weapon_type'].unique()"
   ]
  },
  {
   "cell_type": "code",
   "execution_count": 36,
   "id": "5447f9a5",
   "metadata": {},
   "outputs": [
    {
     "data": {
      "text/plain": [
       "Iraq           24636\n",
       "Pakistan       14368\n",
       "Afghanistan    12731\n",
       "India          11960\n",
       "Colombia        8306\n",
       "Name: Country, dtype: int64"
      ]
     },
     "execution_count": 36,
     "metadata": {},
     "output_type": "execute_result"
    }
   ],
   "source": [
    "# The top affected countries.\n",
    "df['Country'].value_counts().head()"
   ]
  },
  {
   "cell_type": "code",
   "execution_count": 37,
   "id": "c2cf047b",
   "metadata": {},
   "outputs": [
    {
     "data": {
      "text/plain": [
       "Middle East & North Africa    50474\n",
       "South Asia                    44974\n",
       "South America                 18978\n",
       "Sub-Saharan Africa            17550\n",
       "Western Europe                16639\n",
       "Name: Region, dtype: int64"
      ]
     },
     "execution_count": 37,
     "metadata": {},
     "output_type": "execute_result"
    }
   ],
   "source": [
    "# The top affected regions.\n",
    "df['Region'].value_counts().head()"
   ]
  },
  {
   "cell_type": "code",
   "execution_count": 38,
   "id": "781637b9",
   "metadata": {},
   "outputs": [
    {
     "data": {
      "text/plain": [
       "Baghdad             7645\n",
       "Unknown             4711\n",
       "Northern Ireland    4498\n",
       "Balochistan         3710\n",
       "Saladin             3411\n",
       "Name: State, dtype: int64"
      ]
     },
     "execution_count": 38,
     "metadata": {},
     "output_type": "execute_result"
    }
   ],
   "source": [
    "# The top affected statess.\n",
    "df['State'].value_counts().head()"
   ]
  },
  {
   "cell_type": "code",
   "execution_count": 39,
   "id": "b8fa9299",
   "metadata": {},
   "outputs": [
    {
     "data": {
      "text/plain": [
       "Unknown    10209\n",
       "Baghdad     7589\n",
       "Karachi     2652\n",
       "Lima        2359\n",
       "Mosul       2265\n",
       "Name: City, dtype: int64"
      ]
     },
     "execution_count": 39,
     "metadata": {},
     "output_type": "execute_result"
    }
   ],
   "source": [
    "# The top affected cities.\n",
    "df['City'].value_counts().head()"
   ]
  },
  {
   "cell_type": "code",
   "execution_count": 40,
   "id": "2f64cf00",
   "metadata": {},
   "outputs": [
    {
     "data": {
      "text/plain": [
       "Bombing/Explosion                 88255\n",
       "Armed Assault                     42669\n",
       "Assassination                     19312\n",
       "Hostage Taking (Kidnapping)       11158\n",
       "Facility/Infrastructure Attack    10356\n",
       "Name: Attack_Type, dtype: int64"
      ]
     },
     "execution_count": 40,
     "metadata": {},
     "output_type": "execute_result"
    }
   ],
   "source": [
    "# The top attack modes used by terrorists.\n",
    "df['Attack_Type'].value_counts().head()"
   ]
  },
  {
   "cell_type": "code",
   "execution_count": 41,
   "id": "02f933a7",
   "metadata": {},
   "outputs": [
    {
     "data": {
      "text/plain": [
       "Private Citizens & Property    43511\n",
       "Military                       27984\n",
       "Police                         24506\n",
       "Government (General)           21283\n",
       "Business                       20669\n",
       "Name: Target_Type, dtype: int64"
      ]
     },
     "execution_count": 41,
     "metadata": {},
     "output_type": "execute_result"
    }
   ],
   "source": [
    "# The top Targets.\n",
    "df['Target_Type'].value_counts().head()"
   ]
  },
  {
   "cell_type": "code",
   "execution_count": 42,
   "id": "5dc7d8c0",
   "metadata": {},
   "outputs": [
    {
     "data": {
      "text/plain": [
       "Unnamed Civilian/Unspecified                               11596\n",
       "Police Security Forces/Officers                            11178\n",
       "others                                                     10373\n",
       "Military Unit/Patrol/Convoy                                 8277\n",
       "Military Personnel (soldiers, troops, officers, forces)     7963\n",
       "Name: Target_Subtype, dtype: int64"
      ]
     },
     "execution_count": 42,
     "metadata": {},
     "output_type": "execute_result"
    }
   ],
   "source": [
    "# The top Targeted groups\n",
    "df['Target_Subtype'].value_counts().head()"
   ]
  },
  {
   "cell_type": "code",
   "execution_count": 43,
   "id": "76e051de",
   "metadata": {},
   "outputs": [
    {
     "data": {
      "text/plain": [
       "Iraq           24113\n",
       "Pakistan       13900\n",
       "India          12098\n",
       "Afghanistan    10931\n",
       "Colombia        7922\n",
       "Name: Nationality_of_Vic, dtype: int64"
      ]
     },
     "execution_count": 43,
     "metadata": {},
     "output_type": "execute_result"
    }
   ],
   "source": [
    "# The top contries of affected citizens\n",
    "df['Nationality_of_Vic'].value_counts().head()"
   ]
  },
  {
   "cell_type": "code",
   "execution_count": 44,
   "id": "eaa179f9",
   "metadata": {},
   "outputs": [
    {
     "data": {
      "text/plain": [
       "Unknown                                             82782\n",
       "Taliban                                              7478\n",
       "Islamic State of Iraq and the Levant (ISIL)          5613\n",
       "Shining Path (SL)                                    4555\n",
       "Farabundo Marti National Liberation Front (FMLN)     3351\n",
       "Name: Gang_Name, dtype: int64"
      ]
     },
     "execution_count": 44,
     "metadata": {},
     "output_type": "execute_result"
    }
   ],
   "source": [
    "# The top terrorist organizations\n",
    "df['Gang_Name'].value_counts().head()"
   ]
  },
  {
   "cell_type": "code",
   "execution_count": 45,
   "id": "6f8ace6d",
   "metadata": {},
   "outputs": [
    {
     "data": {
      "text/plain": [
       "Explosives    92426\n",
       "Firearms      58524\n",
       "Unknown       15157\n",
       "Incendiary    11135\n",
       "Melee          3655\n",
       "Name: Weapon_type, dtype: int64"
      ]
     },
     "execution_count": 45,
     "metadata": {},
     "output_type": "execute_result"
    }
   ],
   "source": [
    "# The top weapons used by terrorists.\n",
    "df['Weapon_type'].value_counts().head()"
   ]
  },
  {
   "cell_type": "code",
   "execution_count": 46,
   "id": "ba45af86",
   "metadata": {},
   "outputs": [
    {
     "data": {
      "text/plain": [
       "872892.0"
      ]
     },
     "execution_count": 46,
     "metadata": {},
     "output_type": "execute_result"
    }
   ],
   "source": [
    "# Number of casualties happen\n",
    "df['nCasualties'].sum()"
   ]
  },
  {
   "cell_type": "code",
   "execution_count": 47,
   "id": "08386732",
   "metadata": {},
   "outputs": [
    {
     "data": {
      "text/plain": [
       "10719.0"
      ]
     },
     "execution_count": 47,
     "metadata": {},
     "output_type": "execute_result"
    }
   ],
   "source": [
    "# Number of casualties happen\n",
    "df['Victim_Kidnapped'].sum()"
   ]
  },
  {
   "cell_type": "markdown",
   "id": "e71ddd0e",
   "metadata": {},
   "source": [
    "## Data Visualization"
   ]
  },
  {
   "cell_type": "code",
   "execution_count": 48,
   "id": "c0c70866",
   "metadata": {},
   "outputs": [
    {
     "data": {
      "text/plain": [
       "Text(0.5, 1.0, 'Attacks per Year')"
      ]
     },
     "execution_count": 48,
     "metadata": {},
     "output_type": "execute_result"
    },
    {
     "data": {
      "image/png": "[encoded data removed]",
      "text/plain": [
       "<Figure size 1440x576 with 1 Axes>"
      ]
     },
     "metadata": {
      "needs_background": "light"
     },
     "output_type": "display_data"
    }
   ],
   "source": [
    "# Analysis of the number of attacks per year\n",
    "plt.figure(figsize = (20,8))\n",
    "sns.set(font_scale = 1.1)\n",
    "plt.xticks(rotation = 90)\n",
    "sns.countplot(x = 'Year' ,data = df)\n",
    "plt.title('Attacks per Year',fontsize=20)"
   ]
  },
  {
   "cell_type": "code",
   "execution_count": 49,
   "id": "75e97c3b",
   "metadata": {},
   "outputs": [
    {
     "data": {
      "text/plain": [
       "Text(0.5, 1.0, 'Number of Terrorist Attack by Region')"
      ]
     },
     "execution_count": 49,
     "metadata": {},
     "output_type": "execute_result"
    },
    {
     "data": {
      "image/png": "[encoded data removed]",
      "text/plain": [
       "<Figure size 1440x576 with 1 Axes>"
      ]
     },
     "metadata": {},
     "output_type": "display_data"
    }
   ],
   "source": [
    "#Number of Attacks per Region (The globe has been divided into 12 distinct regions as per global standards)\n",
    "plt.figure(figsize = (20,8))\n",
    "sns.set(font_scale = 1.1)\n",
    "\n",
    "sns.countplot(y = 'Region' ,data = df)\n",
    "plt.title('Number of Terrorist Attack by Region',fontsize=20)"
   ]
  },
  {
   "cell_type": "code",
   "execution_count": 50,
   "id": "5e67de6d",
   "metadata": {},
   "outputs": [
    {
     "data": {
      "text/plain": [
       "Text(0.5, 1.0, 'Types of Terrorist Attack')"
      ]
     },
     "execution_count": 50,
     "metadata": {},
     "output_type": "execute_result"
    },
    {
     "data": {
      "image/png": "[encoded data removed]",
      "text/plain": [
       "<Figure size 1440x576 with 1 Axes>"
      ]
     },
     "metadata": {},
     "output_type": "display_data"
    }
   ],
   "source": [
    "# Number of Attacks per Attack Method\n",
    "plt.figure(figsize = (20,8))\n",
    "sns.set(font_scale = 1.3)\n",
    "plt.xticks(rotation = 60)\n",
    "\n",
    "sns.countplot(x = 'Attack_Type' ,data = df)\n",
    "plt.title('Types of Terrorist Attack',fontsize=20)"
   ]
  },
  {
   "cell_type": "code",
   "execution_count": 51,
   "id": "36523656",
   "metadata": {},
   "outputs": [
    {
     "data": {
      "text/plain": [
       "Text(0.5, 1.0, 'Types of Terrorist Attack')"
      ]
     },
     "execution_count": 51,
     "metadata": {},
     "output_type": "execute_result"
    },
    {
     "data": {
      "image/png": "[encoded data removed]",
      "text/plain": [
       "<Figure size 1440x576 with 1 Axes>"
      ]
     },
     "metadata": {},
     "output_type": "display_data"
    }
   ],
   "source": [
    "# Number of Attacks per Type of Targets\n",
    "plt.figure(figsize = (20,8))\n",
    "sns.set(font_scale = 1.3)\n",
    "plt.xticks(rotation = 90)\n",
    "\n",
    "sns.countplot(x = 'Target_Type' ,data = df)\n",
    "plt.title('Types of Terrorist Attack',fontsize=20)"
   ]
  },
  {
   "cell_type": "code",
   "execution_count": 52,
   "id": "73443f84",
   "metadata": {},
   "outputs": [
    {
     "data": {
      "text/plain": [
       "Text(0.5, 1.0, 'Types of Weapons')"
      ]
     },
     "execution_count": 52,
     "metadata": {},
     "output_type": "execute_result"
    },
    {
     "data": {
      "image/png": "[encoded data removed]",
      "text/plain": [
       "<Figure size 1080x360 with 1 Axes>"
      ]
     },
     "metadata": {},
     "output_type": "display_data"
    }
   ],
   "source": [
    "# Number of Weapons Type \n",
    "plt.figure(figsize = (15,5))\n",
    "sns.set(font_scale = 1.3)\n",
    "plt.xticks(rotation = 90)\n",
    "\n",
    "sns.countplot(x = 'Weapon_type' ,data = df)\n",
    "plt.title('Types of Weapons',fontsize=20)"
   ]
  },
  {
   "cell_type": "markdown",
   "id": "5d904bc1",
   "metadata": {},
   "source": [
    "## Output of Data Analysis"
   ]
  },
  {
   "cell_type": "markdown",
   "id": "37d98d73",
   "metadata": {},
   "source": [
    "- Attacks were more during 2012 to 2017.Number of attacks are little bit consistent in 1979 to 2012.\n",
    "- Iraq has the highest number of attacks.then comes Pakistan,Afghanistan and india which have almost same number of attacks.\n",
    "- Baghdad is the most affected state in word by terrorism.\n",
    "- The Middle East& North Africa leads 1st among all the regions and then South Asia takes 2nd place.\n",
    "- Most of the attacks were through Bombs and explosives.\n",
    "- For most of the attacks, the target is Private Citizens & property and the next Military leads.\n",
    "- Most of the times explosives and firearms are used as weapon.\n",
    "- From 1970, 872892 Casualties happened with people all over the world and 10719 people kidnapped."
   ]
  }
 ],
 "metadata": {
  "kernelspec": {
   "display_name": "Python 3 (ipykernel)",
   "language": "python",
   "name": "python3"
  },
  "language_info": {
   "codemirror_mode": {
    "name": "ipython",
    "version": 3
   },
   "file_extension": ".py",
   "mimetype": "text/x-python",
   "name": "python",
   "nbconvert_exporter": "python",
   "pygments_lexer": "ipython3",
   "version": "3.9.12"
  }
 },
 "nbformat": 4,
 "nbformat_minor": 5
}
